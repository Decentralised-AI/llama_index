{
    "cells": [
        {
            "attachments": {},
            "cell_type": "markdown",
            "id": "307804a3-c02b-4a57-ac0d-172c30ddc851",
            "metadata": {},
            "source": [
                "# LlamaIndex + Pinecone "
            ]
        },
        {
            "attachments": {},
            "cell_type": "markdown",
            "id": "99ba1864",
            "metadata": {},
            "source": [
                "In this tutorial, we show how to use LlamaIndex with Pinecone to answer complex queries over multiple data sources.  \n",
                "1. Compare and contrast queries over Wikipedia articles\n",
                "2. Temporal queries (TBD)"
            ]
        },
        {
            "cell_type": "code",
            "execution_count": 1,
            "id": "d48af8e1",
            "metadata": {},
            "outputs": [],
            "source": [
                "import logging\n",
                "import sys\n",
                "\n",
                "logging.basicConfig(stream=sys.stdout, level=logging.INFO)\n",
                "logging.getLogger().addHandler(logging.StreamHandler(stream=sys.stdout))"
            ]
        },
        {
            "attachments": {},
            "cell_type": "markdown",
            "id": "26d56590",
            "metadata": {},
            "source": [
                "#### Load Dataset\n",
                "\n",
                "Fetch and load Wikipedia pages"
            ]
        },
        {
            "cell_type": "code",
            "execution_count": 4,
            "id": "c410eec0",
            "metadata": {},
            "outputs": [
                {
                    "name": "stdout",
                    "output_type": "stream",
                    "text": [
                        "INFO:numexpr.utils:Note: NumExpr detected 12 cores but \"NUMEXPR_MAX_THREADS\" not set, so enforcing safe limit of 8.\n",
                        "Note: NumExpr detected 12 cores but \"NUMEXPR_MAX_THREADS\" not set, so enforcing safe limit of 8.\n",
                        "INFO:numexpr.utils:NumExpr defaulting to 8 threads.\n",
                        "NumExpr defaulting to 8 threads.\n"
                    ]
                },
                {
                    "name": "stderr",
                    "output_type": "stream",
                    "text": [
                        "/Users/suo/miniconda3/envs/llama/lib/python3.9/site-packages/tqdm/auto.py:21: TqdmWarning: IProgress not found. Please update jupyter and ipywidgets. See https://ipywidgets.readthedocs.io/en/stable/user_install.html\n",
                        "  from .autonotebook import tqdm as notebook_tqdm\n"
                    ]
                }
            ],
            "source": [
                "from llama_index import SimpleDirectoryReader"
            ]
        },
        {
            "cell_type": "code",
            "execution_count": 5,
            "id": "583afcf9",
            "metadata": {},
            "outputs": [],
            "source": [
                "wiki_titles = [\"Toronto\", \"Seattle\", \"San Francisco\", \"Chicago\", \"Boston\", \"Washington, D.C.\", \"Cambridge, Massachusetts\", \"Houston\"]"
            ]
        },
        {
            "cell_type": "code",
            "execution_count": 6,
            "id": "540a39b6",
            "metadata": {},
            "outputs": [],
            "source": [
                "from pathlib import Path\n",
                "import requests\n",
                "\n",
                "data_path = Path('data_wiki')\n",
                "\n",
                "for title in wiki_titles:\n",
                "    response = requests.get(\n",
                "        'https://en.wikipedia.org/w/api.php',\n",
                "        params={\n",
                "            'action': 'query',\n",
                "            'format': 'json',\n",
                "            'titles': title,\n",
                "            'prop': 'extracts',\n",
                "            # 'exintro': True,\n",
                "            'explaintext': True,\n",
                "        }\n",
                "    ).json()\n",
                "    page = next(iter(response['query']['pages'].values()))\n",
                "    wiki_text = page['extract']\n",
                "\n",
                "    if not data_path.exists():\n",
                "        Path.mkdir(data_path)\n",
                "\n",
                "    with open(data_path / f\"{title}.txt\", 'w') as fp:\n",
                "        fp.write(wiki_text)\n"
            ]
        },
        {
            "cell_type": "code",
            "execution_count": 7,
            "id": "4b802084",
            "metadata": {},
            "outputs": [],
            "source": [
                "# Load all wiki documents\n",
                "city_docs = {}\n",
                "all_docs = []\n",
                "for wiki_title in wiki_titles:\n",
                "    city_docs[wiki_title] = SimpleDirectoryReader(input_files=[data_path / f\"{wiki_title}.txt\"]).load_data()\n",
                "    all_docs.extend(city_docs[wiki_title])\n"
            ]
        },
        {
            "cell_type": "markdown",
            "id": "f7010b1d-d1bb-4f08-9309-a328bb4ea396",
            "metadata": {},
            "source": [
                "#### Creating a Pinecone Index"
            ]
        },
        {
            "cell_type": "code",
            "execution_count": 8,
            "id": "0ce3143d-198c-4dd2-8e5a-c5cdf94f017a",
            "metadata": {},
            "outputs": [],
            "source": [
                "import pinecone"
            ]
        },
        {
            "cell_type": "code",
            "execution_count": 9,
            "id": "4ad14111-0bbb-4c62-906d-6d6253e0cdee",
            "metadata": {},
            "outputs": [],
            "source": [
                "api_key = \"8771f9e8-9830-4711-8735-1cfc716b9bc3\"\n",
                "pinecone.init(api_key=api_key, environment=\"eu-west1-gcp\")"
            ]
        },
        {
            "cell_type": "code",
            "execution_count": null,
            "id": "c2c90087-bdd9-4ca4-b06b-2af883559f88",
            "metadata": {},
            "outputs": [],
            "source": [
                "# create index if it does not already exist\n",
                "# dimensions are for text-embedding-ada-002\n",
                "pinecone.create_index(\"quickstart-index\", dimension=1536, metric=\"euclidean\", pod_type=\"p1\")"
            ]
        },
        {
            "cell_type": "code",
            "execution_count": 11,
            "id": "667f3cb3-ce18-48d5-b9aa-bfc1a1f0f0f6",
            "metadata": {},
            "outputs": [],
            "source": [
                "pinecone_index = pinecone.Index(\"quickstart-index\")"
            ]
        },
        {
            "attachments": {},
            "cell_type": "markdown",
            "id": "8ee4473a-094f-4d0a-a825-e1213db07240",
            "metadata": {},
            "source": [
                "#### Build Indices"
            ]
        },
        {
            "cell_type": "code",
            "execution_count": 12,
            "id": "0a2bcc07",
            "metadata": {},
            "outputs": [],
            "source": [
                "from llama_index import GPTVectorStoreIndex, StorageContext\n",
                "from llama_index.vector_stores import PineconeVectorStore\n",
                "from IPython.display import Markdown, display"
            ]
        },
        {
            "cell_type": "code",
            "execution_count": 13,
            "id": "ba1558b3",
            "metadata": {},
            "outputs": [
                {
                    "name": "stdout",
                    "output_type": "stream",
                    "text": [
                        "Building index for Toronto\n",
                        "INFO:llama_index.token_counter.token_counter:> [build_index_from_nodes] Total LLM token usage: 0 tokens\n",
                        "> [build_index_from_nodes] Total LLM token usage: 0 tokens\n",
                        "INFO:llama_index.token_counter.token_counter:> [build_index_from_nodes] Total embedding token usage: 20744 tokens\n",
                        "> [build_index_from_nodes] Total embedding token usage: 20744 tokens\n",
                        "Building index for Seattle\n",
                        "INFO:llama_index.token_counter.token_counter:> [build_index_from_nodes] Total LLM token usage: 0 tokens\n",
                        "> [build_index_from_nodes] Total LLM token usage: 0 tokens\n",
                        "INFO:llama_index.token_counter.token_counter:> [build_index_from_nodes] Total embedding token usage: 16942 tokens\n",
                        "> [build_index_from_nodes] Total embedding token usage: 16942 tokens\n",
                        "Building index for San Francisco\n",
                        "INFO:llama_index.token_counter.token_counter:> [build_index_from_nodes] Total LLM token usage: 0 tokens\n",
                        "> [build_index_from_nodes] Total LLM token usage: 0 tokens\n",
                        "INFO:llama_index.token_counter.token_counter:> [build_index_from_nodes] Total embedding token usage: 23433 tokens\n",
                        "> [build_index_from_nodes] Total embedding token usage: 23433 tokens\n",
                        "Building index for Chicago\n",
                        "INFO:llama_index.token_counter.token_counter:> [build_index_from_nodes] Total LLM token usage: 0 tokens\n",
                        "> [build_index_from_nodes] Total LLM token usage: 0 tokens\n",
                        "INFO:llama_index.token_counter.token_counter:> [build_index_from_nodes] Total embedding token usage: 26082 tokens\n",
                        "> [build_index_from_nodes] Total embedding token usage: 26082 tokens\n",
                        "Building index for Boston\n",
                        "INFO:llama_index.token_counter.token_counter:> [build_index_from_nodes] Total LLM token usage: 0 tokens\n",
                        "> [build_index_from_nodes] Total LLM token usage: 0 tokens\n",
                        "INFO:llama_index.token_counter.token_counter:> [build_index_from_nodes] Total embedding token usage: 18648 tokens\n",
                        "> [build_index_from_nodes] Total embedding token usage: 18648 tokens\n",
                        "Building index for Washington, D.C.\n",
                        "INFO:llama_index.token_counter.token_counter:> [build_index_from_nodes] Total LLM token usage: 0 tokens\n",
                        "> [build_index_from_nodes] Total LLM token usage: 0 tokens\n",
                        "INFO:llama_index.token_counter.token_counter:> [build_index_from_nodes] Total embedding token usage: 21649 tokens\n",
                        "> [build_index_from_nodes] Total embedding token usage: 21649 tokens\n",
                        "Building index for Cambridge, Massachusetts\n",
                        "INFO:llama_index.token_counter.token_counter:> [build_index_from_nodes] Total LLM token usage: 0 tokens\n",
                        "> [build_index_from_nodes] Total LLM token usage: 0 tokens\n",
                        "INFO:llama_index.token_counter.token_counter:> [build_index_from_nodes] Total embedding token usage: 12855 tokens\n",
                        "> [build_index_from_nodes] Total embedding token usage: 12855 tokens\n",
                        "Building index for Houston\n",
                        "INFO:llama_index.token_counter.token_counter:> [build_index_from_nodes] Total LLM token usage: 0 tokens\n",
                        "> [build_index_from_nodes] Total LLM token usage: 0 tokens\n",
                        "INFO:llama_index.token_counter.token_counter:> [build_index_from_nodes] Total embedding token usage: 21844 tokens\n",
                        "> [build_index_from_nodes] Total embedding token usage: 21844 tokens\n"
                    ]
                }
            ],
            "source": [
                "# Build index for each city document\n",
                "city_indices = {}\n",
                "index_summaries = {}\n",
                "for wiki_title in wiki_titles:\n",
                "    print(f\"Building index for {wiki_title}\")\n",
                "    # create storage context\n",
                "    vector_store = PineconeVectorStore(pinecone_index=pinecone_index, namespace=wiki_title)\n",
                "    storage_context = StorageContext.from_defaults(vector_store=vector_store)\n",
                "    \n",
                "    # build index\n",
                "    city_indices[wiki_title] = GPTVectorStoreIndex.from_documents(city_docs[wiki_title], storage_context=storage_context)\n",
                "\n",
                "    # set summary text for city\n",
                "    index_summaries[wiki_title] = f\"Wikipedia articles about {wiki_title}\""
            ]
        },
        {
            "attachments": {},
            "cell_type": "markdown",
            "id": "04304299-fc3e-40a0-8600-f50c3292767e",
            "metadata": {},
            "source": [
                "#### Build Graph Query Engine for Compare & Contrast Query"
            ]
        },
        {
            "cell_type": "code",
            "execution_count": 14,
            "id": "35369eda",
            "metadata": {},
            "outputs": [],
            "source": [
                "from llama_index.indices.composability import ComposableGraph\n",
                "from llama_index.indices.keyword_table.simple_base import GPTSimpleKeywordTableIndex"
            ]
        },
        {
            "cell_type": "code",
            "execution_count": 15,
            "id": "bedbb693-725f-478f-be26-fa7180ea38b2",
            "metadata": {},
            "outputs": [
                {
                    "name": "stdout",
                    "output_type": "stream",
                    "text": [
                        "INFO:llama_index.token_counter.token_counter:> [build_index_from_nodes] Total LLM token usage: 0 tokens\n",
                        "> [build_index_from_nodes] Total LLM token usage: 0 tokens\n",
                        "INFO:llama_index.token_counter.token_counter:> [build_index_from_nodes] Total embedding token usage: 0 tokens\n",
                        "> [build_index_from_nodes] Total embedding token usage: 0 tokens\n"
                    ]
                }
            ],
            "source": [
                "graph = ComposableGraph.from_indices(\n",
                "    GPTSimpleKeywordTableIndex,\n",
                "    [index for _, index in city_indices.items()], \n",
                "    [summary for _, summary in index_summaries.items()],\n",
                "    max_keywords_per_chunk=50\n",
                ")"
            ]
        },
        {
            "cell_type": "code",
            "execution_count": 16,
            "id": "ba8ddcf0",
            "metadata": {},
            "outputs": [],
            "source": [
                "from llama_index.indices.query.query_transform.base import DecomposeQueryTransform\n",
                "from llama_index.query_engine.transform_query_engine import TransformQueryEngine\n",
                "\n",
                "decompose_transform = DecomposeQueryTransform(verbose=True)\n",
                "\n",
                "custom_query_engines = {}\n",
                "for wiki_title in wiki_titles:\n",
                "    index = city_indices[wiki_title]\n",
                "    query_engine = index.as_query_engine()\n",
                "    query_engine = TransformQueryEngine(\n",
                "        query_engine,\n",
                "        query_transform=decompose_transform,\n",
                "        transform_extra_info={'index_summary': index_summaries[wiki_title]},\n",
                "    )\n",
                "    custom_query_engines[index.index_id] = query_engine\n",
                "\n",
                "custom_query_engines[graph.root_id] = graph.root_index.as_query_engine(\n",
                "    retriever_mode='simple',\n",
                "    response_mode='tree_summarize',\n",
                ")\n"
            ]
        },
        {
            "cell_type": "code",
            "execution_count": 17,
            "id": "78235fbb",
            "metadata": {},
            "outputs": [],
            "source": [
                "# with query decomposition in subindices\n",
                "query_engine = graph.as_query_engine(custom_query_engines=custom_query_engines)"
            ]
        },
        {
            "attachments": {},
            "cell_type": "markdown",
            "id": "7dd3616c",
            "metadata": {},
            "source": [
                "#### Run Compare & Contrast Query"
            ]
        },
        {
            "cell_type": "code",
            "execution_count": 18,
            "id": "3f210a02",
            "metadata": {},
            "outputs": [
                {
                    "name": "stdout",
                    "output_type": "stream",
                    "text": [
                        "INFO:llama_index.indices.keyword_table.retrievers:> Starting query: Compare and contrast the demographics in Seattle, Houston, and Toronto.\n",
                        "> Starting query: Compare and contrast the demographics in Seattle, Houston, and Toronto.\n",
                        "INFO:llama_index.indices.keyword_table.retrievers:query keywords: ['contrast', 'demographics', 'seattle', 'toronto', 'compare', 'houston']\n",
                        "query keywords: ['contrast', 'demographics', 'seattle', 'toronto', 'compare', 'houston']\n",
                        "INFO:llama_index.indices.keyword_table.retrievers:> Extracted keywords: ['seattle', 'toronto', 'houston']\n",
                        "> Extracted keywords: ['seattle', 'toronto', 'houston']\n",
                        "\u001b[33;1m\u001b[1;3m> Current query: Compare and contrast the demographics in Seattle, Houston, and Toronto.\n",
                        "\u001b[0m\u001b[38;5;200m\u001b[1;3m> New query:  What is the population of Seattle?\n",
                        "\u001b[0mINFO:llama_index.token_counter.token_counter:> [retrieve] Total LLM token usage: 0 tokens\n",
                        "> [retrieve] Total LLM token usage: 0 tokens\n",
                        "INFO:llama_index.token_counter.token_counter:> [retrieve] Total embedding token usage: 7 tokens\n",
                        "> [retrieve] Total embedding token usage: 7 tokens\n",
                        "\u001b[33;1m\u001b[1;3m> Current query: Compare and contrast the demographics in Seattle, Houston, and Toronto.\n",
                        "\u001b[0m\u001b[38;5;200m\u001b[1;3m> New query:  What is the population of Seattle?\n",
                        "\u001b[0mINFO:llama_index.token_counter.token_counter:> [get_response] Total LLM token usage: 1789 tokens\n",
                        "> [get_response] Total LLM token usage: 1789 tokens\n",
                        "INFO:llama_index.token_counter.token_counter:> [get_response] Total embedding token usage: 0 tokens\n",
                        "> [get_response] Total embedding token usage: 0 tokens\n",
                        "\u001b[33;1m\u001b[1;3m> Current query: Compare and contrast the demographics in Seattle, Houston, and Toronto.\n",
                        "\u001b[0m\u001b[38;5;200m\u001b[1;3m> New query:  What is the population of Toronto?\n",
                        "\u001b[0mINFO:llama_index.token_counter.token_counter:> [retrieve] Total LLM token usage: 0 tokens\n",
                        "> [retrieve] Total LLM token usage: 0 tokens\n",
                        "INFO:llama_index.token_counter.token_counter:> [retrieve] Total embedding token usage: 7 tokens\n",
                        "> [retrieve] Total embedding token usage: 7 tokens\n",
                        "\u001b[33;1m\u001b[1;3m> Current query: Compare and contrast the demographics in Seattle, Houston, and Toronto.\n",
                        "\u001b[0m\u001b[38;5;200m\u001b[1;3m> New query:  What is the population of Toronto?\n",
                        "\u001b[0mINFO:llama_index.token_counter.token_counter:> [get_response] Total LLM token usage: 1884 tokens\n",
                        "> [get_response] Total LLM token usage: 1884 tokens\n",
                        "INFO:llama_index.token_counter.token_counter:> [get_response] Total embedding token usage: 0 tokens\n",
                        "> [get_response] Total embedding token usage: 0 tokens\n",
                        "\u001b[33;1m\u001b[1;3m> Current query: Compare and contrast the demographics in Seattle, Houston, and Toronto.\n",
                        "\u001b[0m\u001b[38;5;200m\u001b[1;3m> New query:  What is the population of Houston?\n",
                        "\u001b[0mINFO:llama_index.token_counter.token_counter:> [retrieve] Total LLM token usage: 0 tokens\n",
                        "> [retrieve] Total LLM token usage: 0 tokens\n",
                        "INFO:llama_index.token_counter.token_counter:> [retrieve] Total embedding token usage: 7 tokens\n",
                        "> [retrieve] Total embedding token usage: 7 tokens\n",
                        "\u001b[33;1m\u001b[1;3m> Current query: Compare and contrast the demographics in Seattle, Houston, and Toronto.\n",
                        "\u001b[0m\u001b[38;5;200m\u001b[1;3m> New query:  What is the population of Houston?\n",
                        "\u001b[0mINFO:llama_index.token_counter.token_counter:> [get_response] Total LLM token usage: 1780 tokens\n",
                        "> [get_response] Total LLM token usage: 1780 tokens\n",
                        "INFO:llama_index.token_counter.token_counter:> [get_response] Total embedding token usage: 0 tokens\n",
                        "> [get_response] Total embedding token usage: 0 tokens\n",
                        "INFO:llama_index.token_counter.token_counter:> [get_response] Total LLM token usage: 226 tokens\n",
                        "> [get_response] Total LLM token usage: 226 tokens\n",
                        "INFO:llama_index.token_counter.token_counter:> [get_response] Total embedding token usage: 0 tokens\n",
                        "> [get_response] Total embedding token usage: 0 tokens\n",
                        "INFO:llama_index.token_counter.token_counter:> [get_response] Total LLM token usage: 226 tokens\n",
                        "> [get_response] Total LLM token usage: 226 tokens\n",
                        "INFO:llama_index.token_counter.token_counter:> [get_response] Total embedding token usage: 0 tokens\n",
                        "> [get_response] Total embedding token usage: 0 tokens\n"
                    ]
                }
            ],
            "source": [
                "response = query_engine.query(\"Compare and contrast the demographics in Seattle, Houston, and Toronto.\")"
            ]
        },
        {
            "cell_type": "code",
            "execution_count": 19,
            "id": "d24db9d4",
            "metadata": {},
            "outputs": [
                {
                    "data": {
                        "text/markdown": [
                            "**`Final Response:`** Seattle, Houston, and Toronto are all large cities with diverse populations. Seattle has the smallest population of the three cities, with 753,675 people as of 2021. Houston has the second largest population, with 2,304,580 people according to the 2020 U.S. census. Toronto has the largest population of the three cities, with 6,202,225 people in 2021. All three cities have a mix of different ethnicities and cultures, with Seattle having the most diverse population. Houston and Toronto have larger immigrant populations than Seattle. All three cities have a mix of different economic classes, with Toronto having the highest median household income."
                        ],
                        "text/plain": [
                            "<IPython.core.display.Markdown object>"
                        ]
                    },
                    "metadata": {},
                    "output_type": "display_data"
                }
            ],
            "source": [
                "from llama_index.response.notebook_utils import display_response\n",
                "\n",
                "display_response(response, show_source=False)"
            ]
        },
        {
            "attachments": {},
            "cell_type": "markdown",
            "id": "0915670b",
            "metadata": {},
            "source": [
                "### Comparison to a Single Vector Index over all Documents"
            ]
        },
        {
            "cell_type": "code",
            "execution_count": 20,
            "id": "434dfcfb",
            "metadata": {},
            "outputs": [
                {
                    "name": "stdout",
                    "output_type": "stream",
                    "text": [
                        "INFO:llama_index.token_counter.token_counter:> [build_index_from_nodes] Total LLM token usage: 0 tokens\n",
                        "> [build_index_from_nodes] Total LLM token usage: 0 tokens\n",
                        "INFO:llama_index.token_counter.token_counter:> [build_index_from_nodes] Total embedding token usage: 162197 tokens\n",
                        "> [build_index_from_nodes] Total embedding token usage: 162197 tokens\n"
                    ]
                }
            ],
            "source": [
                "# also setup a global vector index \n",
                "vector_store = PineconeVectorStore(pinecone_index=pinecone_index, namespace='all wikis')\n",
                "storage_context = StorageContext.from_defaults(vector_store=vector_store) \n",
                "global_index = GPTVectorStoreIndex.from_documents(all_docs, storage_context=storage_context)"
            ]
        },
        {
            "cell_type": "code",
            "execution_count": 21,
            "id": "f5bd0c48",
            "metadata": {},
            "outputs": [],
            "source": [
                "global_query_engine = global_index.as_query_engine(similarity_top_k=4)"
            ]
        },
        {
            "cell_type": "code",
            "execution_count": 23,
            "id": "8f2194c5",
            "metadata": {},
            "outputs": [
                {
                    "name": "stdout",
                    "output_type": "stream",
                    "text": [
                        "INFO:llama_index.token_counter.token_counter:> [retrieve] Total LLM token usage: 0 tokens\n",
                        "> [retrieve] Total LLM token usage: 0 tokens\n",
                        "INFO:llama_index.token_counter.token_counter:> [retrieve] Total embedding token usage: 13 tokens\n",
                        "> [retrieve] Total embedding token usage: 13 tokens\n",
                        "INFO:llama_index.token_counter.token_counter:> [get_response] Total LLM token usage: 4526 tokens\n",
                        "> [get_response] Total LLM token usage: 4526 tokens\n",
                        "INFO:llama_index.token_counter.token_counter:> [get_response] Total embedding token usage: 0 tokens\n",
                        "> [get_response] Total embedding token usage: 0 tokens\n"
                    ]
                }
            ],
            "source": [
                "response = global_query_engine.query(\"Compare and contrast the demographics in Seattle, Houston, and Toronto.\")"
            ]
        },
        {
            "cell_type": "code",
            "execution_count": 24,
            "id": "0d434a9a",
            "metadata": {},
            "outputs": [
                {
                    "data": {
                        "text/markdown": [
                            "**`Final Response:`** Seattle, Houston, and Toronto are all major cities with diverse populations. Seattle has a population of approximately 753,000 people, while Houston has a population of 2.3 million and Toronto has a population of 2.9 million. \n",
                            "\n",
                            "Seattle has a notably large lesbian, gay, bisexual, and transgender community, with 12.9% of city residents identifying as LGBT. Houston and Toronto have smaller LGBT populations, with 8.8% and 8.2% of their respective populations identifying as LGBT. \n",
                            "\n",
                            "Seattle has a higher percentage of college and university graduates than the national average, with 53.8% of the population over the age of 25 holding a bachelor's degree or higher. Houston and Toronto have lower percentages of college and university graduates, with 37.2% and 43.2% of their respective populations over the age of 25 holding a bachelor's degree or higher. \n",
                            "\n",
                            "Seattle has a higher percentage of foreign-born residents than Houston and Toronto, with 15.2% of the population being foreign-born. Houston and Toronto have lower percentages of foreign-born residents, with 13.7% and 44.7% of their respective populations being foreign-born. Seattle also has a higher percentage of white residents than Houston"
                        ],
                        "text/plain": [
                            "<IPython.core.display.Markdown object>"
                        ]
                    },
                    "metadata": {},
                    "output_type": "display_data"
                }
            ],
            "source": [
                "display_response(response, show_source=False)"
            ]
        },
        {
            "cell_type": "code",
            "execution_count": 28,
            "id": "7cad18ea",
            "metadata": {},
            "outputs": [
                {
                    "data": {
                        "text/markdown": [
                            "**`Final Response:`** Seattle, Houston, and Toronto are all major cities with diverse populations. Seattle has a population of approximately 753,000 people, while Houston has a population of 2.3 million and Toronto has a population of 2.9 million. \n",
                            "\n",
                            "Seattle has a notably large lesbian, gay, bisexual, and transgender community, with 12.9% of city residents identifying as LGBT. Houston and Toronto have smaller LGBT populations, with 8.8% and 8.2% of their respective populations identifying as LGBT. \n",
                            "\n",
                            "Seattle has a higher percentage of college and university graduates than the national average, with 53.8% of the population over the age of 25 holding a bachelor's degree or higher. Houston and Toronto have lower percentages of college and university graduates, with 37.2% and 43.2% of their respective populations over the age of 25 holding a bachelor's degree or higher. \n",
                            "\n",
                            "Seattle has a higher percentage of foreign-born residents than Houston and Toronto, with 15.2% of the population being foreign-born. Houston and Toronto have lower percentages of foreign-born residents, with 13.7% and 44.7% of their respective populations being foreign-born. Seattle also has a higher percentage of white residents than Houston"
                        ],
                        "text/plain": [
                            "<IPython.core.display.Markdown object>"
                        ]
                    },
                    "metadata": {},
                    "output_type": "display_data"
                },
                {
                    "data": {
                        "text/markdown": [
                            "---"
                        ],
                        "text/plain": [
                            "<IPython.core.display.Markdown object>"
                        ]
                    },
                    "metadata": {},
                    "output_type": "display_data"
                },
                {
                    "data": {
                        "text/markdown": [
                            "**`Source Node 1/4`**"
                        ],
                        "text/plain": [
                            "<IPython.core.display.Markdown object>"
                        ]
                    },
                    "metadata": {},
                    "output_type": "display_data"
                },
                {
                    "data": {
                        "text/markdown": [
                            "**Document ID:** 4365f83b-9f38-48bc-834c-a9b5caf84498<br>**Similarity:** 0.816627681<br>**Text:** Pacific Northwest (which has the lowest rate of church attendance in the United States and consistently reports the highest percentage of atheism), church attendance, religious belief, and political influence of religious leaders are much lower than in other parts of America. Seattle's political culture is very liberal and progressive for the United States, with over 80% of the population voting for the Democratic Party. All precincts in Seattle voted for Democratic Party candidate Barack Obama in the 2012 presidential election. In partisan elections for the Washington State Legislature and United States Congress, nearly all elections are won by Democrats. Although local elections are nonpartisan, most of the city's elected officials are known to be Democrats.In 1926, Seattle became the first major American city to elect a female mayor, Bertha Knight Landes. It has also elected an openly gay mayor, Ed Murray, and a third-party socialist councillor, Kshama Sawant. For the first time ...<br>"
                        ],
                        "text/plain": [
                            "<IPython.core.display.Markdown object>"
                        ]
                    },
                    "metadata": {},
                    "output_type": "display_data"
                },
                {
                    "data": {
                        "text/markdown": [
                            "---"
                        ],
                        "text/plain": [
                            "<IPython.core.display.Markdown object>"
                        ]
                    },
                    "metadata": {},
                    "output_type": "display_data"
                },
                {
                    "data": {
                        "text/markdown": [
                            "**`Source Node 2/4`**"
                        ],
                        "text/plain": [
                            "<IPython.core.display.Markdown object>"
                        ]
                    },
                    "metadata": {},
                    "output_type": "display_data"
                },
                {
                    "data": {
                        "text/markdown": [
                            "**Document ID:** ecb39676-0c44-4855-8bf4-975bf026e39f<br>**Similarity:** 0.815992534<br>**Text:** in the United States.According to the ACS 1-year estimates, in 2018, the median income of a city household was $93,481, and the median income for a family was $130,656. 11.0% of the population and 6.6% of families were below the poverty line. Of people living in poverty, 11.4% were under the age of 18 and 10.9% were 65 or older.It is estimated that King County has 8,000 homeless people on any given night, and many of those live in Seattle. In September 2005, King County adopted a \"Ten-Year Plan to End Homelessness\", one of the near-term results of which is a shift of funding from homeless shelter beds to permanent housing.In recent years, the city has experienced steady population growth, and has been faced with the issue of accommodating more residents. In 2006, after growing by 4,000 citizens per year for the previous 16 years, regional planners expected the population of Seattle to grow by 200,000 people by 2040. However, former mayor Greg Nickels supported plans that would incre...<br>"
                        ],
                        "text/plain": [
                            "<IPython.core.display.Markdown object>"
                        ]
                    },
                    "metadata": {},
                    "output_type": "display_data"
                },
                {
                    "data": {
                        "text/markdown": [
                            "---"
                        ],
                        "text/plain": [
                            "<IPython.core.display.Markdown object>"
                        ]
                    },
                    "metadata": {},
                    "output_type": "display_data"
                },
                {
                    "data": {
                        "text/markdown": [
                            "**`Source Node 3/4`**"
                        ],
                        "text/plain": [
                            "<IPython.core.display.Markdown object>"
                        ]
                    },
                    "metadata": {},
                    "output_type": "display_data"
                },
                {
                    "data": {
                        "text/markdown": [
                            "**Document ID:** 0b5a9857-9b03-455f-bbf7-2f87f84f23a0<br>**Similarity:** 0.81528604<br>**Text:** climate because it is cooler and wetter than a \"true\" Mediterranean climate, but shares the characteristic dry summer (which has a strong influence on the region's vegetation).Temperature extremes are moderated by the adjacent Puget Sound, greater Pacific Ocean, and Lake Washington. Thus extreme heat waves are rare in the Seattle area, as are very cold temperatures (below about 15 °F (−9 °C)). The Seattle area is the cloudiest region of the United States, due in part to frequent storms and lows moving in from the adjacent Pacific Ocean. With many more \"rain days\" than other major American cities, Seattle has a well-earned reputation for frequent rain. In an average year, at least 0.01 inches (0.25 mm) of precipitation falls on 150 days, more than nearly all U.S. cities east of the Rocky Mountains. However, because it often has merely a light drizzle falling from the sky for many days, Seattle actually receives significantly less rainfall (or other precipitation) overall than many ot...<br>"
                        ],
                        "text/plain": [
                            "<IPython.core.display.Markdown object>"
                        ]
                    },
                    "metadata": {},
                    "output_type": "display_data"
                },
                {
                    "data": {
                        "text/markdown": [
                            "---"
                        ],
                        "text/plain": [
                            "<IPython.core.display.Markdown object>"
                        ]
                    },
                    "metadata": {},
                    "output_type": "display_data"
                },
                {
                    "data": {
                        "text/markdown": [
                            "**`Source Node 4/4`**"
                        ],
                        "text/plain": [
                            "<IPython.core.display.Markdown object>"
                        ]
                    },
                    "metadata": {},
                    "output_type": "display_data"
                },
                {
                    "data": {
                        "text/markdown": [
                            "**Document ID:** 85ded3af-3d00-4057-84cd-b186ff001426<br>**Similarity:** 0.811879575<br>**Text:** people were killed in an illegal gambling club in the Seattle Chinatown-International District. Beginning with Microsoft's 1979 move from Albuquerque, New Mexico, to nearby Bellevue, Washington, Seattle and its suburbs became home to a number of technology companies including Amazon, F5 Networks, RealNetworks, Nintendo of America, and T-Mobile. This success brought an influx of new residents with a population increase within city limits of almost 50,000 between 1990 and 2000, and saw Seattle's real estate become some of the most expensive in the country. In 1993, the movie Sleepless in Seattle brought the city further national attention, as did the television sitcom Frasier. The dot-com boom caused a great frenzy among the technology companies in Seattle but the bubble ended in early 2001.Seattle in this period attracted widespread attention as home to these many companies, but also by hosting the 1990 Goodwill Games and the APEC leaders conference in 1993, as well as through the wo...<br>"
                        ],
                        "text/plain": [
                            "<IPython.core.display.Markdown object>"
                        ]
                    },
                    "metadata": {},
                    "output_type": "display_data"
                }
            ],
            "source": [
                "display_response(response, show_source=True, source_length=1000)"
            ]
        },
        {
            "cell_type": "code",
            "execution_count": null,
            "id": "1a23412f",
            "metadata": {},
            "outputs": [],
            "source": []
        }
    ],
    "metadata": {
        "kernelspec": {
            "display_name": "Python 3 (ipykernel)",
            "language": "python",
            "name": "python3"
        },
        "language_info": {
            "codemirror_mode": {
                "name": "ipython",
                "version": 3
            },
            "file_extension": ".py",
            "mimetype": "text/x-python",
            "name": "python",
            "nbconvert_exporter": "python",
            "pygments_lexer": "ipython3",
            "version": "3.9.16"
        }
    },
    "nbformat": 4,
    "nbformat_minor": 5
}
